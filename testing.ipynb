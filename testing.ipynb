{
 "cells": [
  {
   "cell_type": "markdown",
   "metadata": {},
   "source": [
    "# Zeno Tutor MM RAG with Langchain"
   ]
  },
  {
   "cell_type": "markdown",
   "metadata": {},
   "source": [
    "## Data Loading\n",
    "- Partition PDF tables, text, and images\n",
    "- Use Unstructured to partition elements"
   ]
  },
  {
   "cell_type": "code",
   "execution_count": 63,
   "metadata": {},
   "outputs": [
    {
     "name": "stdout",
     "output_type": "stream",
     "text": [
      "Starting PDF processing...\n",
      "Extracting content from PDF...\n",
      "PDF processing completed. Found 2 elements.\n"
     ]
    }
   ],
   "source": [
    "from unstructured.partition.pdf import partition_pdf\n",
    "import os\n",
    "\n",
    "try:\n",
    "    print(\"Starting PDF processing...\")\n",
    "    \n",
    "    # Verify input file exists\n",
    "    input_pdf = \"textbook_input/test.pdf\"\n",
    "    if not os.path.exists(input_pdf):\n",
    "        raise FileNotFoundError(f\"Input PDF file not found: {input_pdf}\")\n",
    "    \n",
    "    # Verify output directory exists, create if not\n",
    "    image_path=\"textbook_output/\"\n",
    "    if not os.path.exists(image_path):\n",
    "        print(f\"Creating output directory: {image_path}\")\n",
    "        os.makedirs(image_path)\n",
    "    \n",
    "    print(\"Extracting content from PDF...\")\n",
    "    raw_pdf_elements = partition_pdf(\n",
    "        input_pdf,\n",
    "        chunking_strategy=\"by_title\",\n",
    "        extract_images_in_pdf=True,\n",
    "        infer_table_structure=True,\n",
    "        languages=[\"eng\"],\n",
    "        max_characters=4000,\n",
    "        new_after_n_chars=3800,\n",
    "        combine_text_under_n_chars=2000,\n",
    "        image_output_dir_path=image_path\n",
    "    )\n",
    "    \n",
    "    print(f\"PDF processing completed. Found {len(pdf_elements)} elements.\")\n",
    "\n",
    "except FileNotFoundError as e:\n",
    "    print(f\"Error: {e}\")\n",
    "except PermissionError:\n",
    "    print(f\"Error: Permission denied accessing the input file or output directory\")\n",
    "except Exception as e:\n",
    "    print(f\"An unexpected error occurred: {str(e)}\")"
   ]
  },
  {
   "cell_type": "code",
   "execution_count": 64,
   "metadata": {},
   "outputs": [],
   "source": [
    "import shutil\n",
    "\n",
    "figures_path = \"figures\"\n",
    "if os.path.exists(figures_path):\n",
    "    for filename in os.listdir(figures_path):\n",
    "        shutil.move(os.path.join(figures_path, filename), image_path)\n",
    "    os.rmdir(figures_path)"
   ]
  },
  {
   "cell_type": "code",
   "execution_count": 65,
   "metadata": {},
   "outputs": [
    {
     "name": "stdout",
     "output_type": "stream",
     "text": [
      "2.1 * Solve Equations Using the Subtraction and Addition Properties of Equality 191\n",
      "\n",
      "[>] TRYIT 22 Is y = 2 a solution of Sy + 3 = 10y —4?\n",
      "\n",
      "Solve Equations Using the Subtraction and Addition Properties of Equality\n",
      "\n",
      "We are going to use a model to clarify the process of solving an equation. An envelope represents the variable - since its contents are unknown - and each counter represents one. We will set out one envelope and some counters on our workspace, as shown in Figure 2.2. Both sides of the workspace have the same number of counters, but some counters are “hidden” in the envelope. Can you tell how many counters are in the envelope?\n",
      "\n",
      "0° oO @@ | @@ ©) ©)\n",
      "\n",
      "Figure 2.2 The illustration shows a model of an equation with one variable. On the left side of the workspace is an unknown (envelope) and three counters, while on the right side of the workspace are eight counters.\n",
      "\n",
      "What are you thinking? What steps are you taking in your mind to figure out how many counters are in the envelope?\n",
      "\n",
      "Perhaps you are thinking: “I need to remove the 3 counters at the bottom left to get the envelope by itself. The 3 counters on the left can be matched with 3 on the right and so I can take them away from both sides. That leaves five on the right—so there must be 5 counters in the envelope.” See Figure 2.3 for an illustration of this process.\n",
      "\n",
      "0.0 0.0 | oo | —. oo CH|CH\n",
      "\n",
      "Figure 2.3 The illustration shows a model for solving an equation with one variable. On both sides of the workspace remove three counters, leaving only the unknown (envelope) and five counters on the right side. The unknown is equal to five counters.\n",
      "\n",
      "What algebraic equation would match this situation? In Figure 2.4 each side of the workspace represents an expression and the center line takes the place of the equal sign. We will call the contents of the envelope x.\n",
      "\n",
      "Oe) oo Oe x4+3 - 8\n",
      "\n",
      "Figure 2.4 The illustration shows a model for the equation x + 3 = 8.\n",
      "\n",
      "Let's write algebraically the steps we took to discover how many counters were in the envelope:\n",
      "\n",
      "x+3=8\n",
      "\n",
      "First, we took away three from each side. X+3-3=8-3\n",
      "\n",
      "Then we were left with five.\n",
      "\n",
      "x=5\n",
      "\n",
      "Check:\n",
      "\n",
      "Five in the envelope plus three more does equal eight!\n",
      "5+3=8\n",
      "\n",
      "Our model has given us an idea of what we need to do to solve one kind of equation. The goal is to isolate the variable by itself on one side of the equation. To solve equations such as these mathematically, we use the Subtraction Property of Equality.\n",
      "\n",
      "192 2+ Solving Linear Equations and Inequalities\n",
      "\n",
      "Subtraction Property of Equality\n",
      "\n",
      "For any numbers a, b, and c,\n",
      "\n",
      "If a= b, then a-c = b-c\n",
      "\n",
      "When you subtract the same quantity from both sides of an equation, you still have equality.\n",
      "\n",
      "Q\n",
      "\n",
      "MANIPULATIVE MATHEMATICS\n",
      "\n",
      "Doing the Manipulative Mathematics activity “Subtraction Property of Equality” will help you develop a better understanding of how to solve equations by using the Subtraction Property of Equality.\n",
      "\n",
      "Let's see how to use this property to solve an equation. Remember, the goal is to isolate the variable on one side of the equation. And we check our solutions by substituting the value into the equation to make sure we have a true statement.\n",
      "\n",
      "Solve: y + 37 = -13.\n",
      "\n",
      "© Solution\n",
      "\n",
      "To get y by itself, we will undo the addition of 37 by using the Subtraction Property of Equality.\n",
      "\n",
      "y+37=-13\n",
      "\n",
      "Subtract 37 from each side to ‘undo’ the addition. Y¥+37-37 =-13-37\n",
      "\n",
      "Simplify. y=-50 Check: ¥+37=-13 Substitute y = —50 -50 + 37=-13 -132-13v\n",
      "\n",
      "Since y = —50 makes y + 37 = —13 a true statement, we have the solution to this equation.\n",
      "\n",
      "[>] TRYIT\n",
      "\n",
      "23 Solve:x+19=-27.\n",
      "\n",
      "[>| TRYIT\n",
      "\n",
      "24\n",
      "\n",
      "— Solve:x +16 = -34.\n",
      "\n",
      "What happens when an equation has a number subtracted from the variable, as in the equation x — 5 = 8? We use another property of equations to solve equations where a number is subtracted from the variable. We want to isolate the variable, so to ‘undo’ the subtraction we will add the number to both sides. We use the Addition Property of Equality.\n",
      "\n",
      "Addition Property of Equality\n",
      "\n",
      "For any numbers a, b, and c,\n",
      "\n",
      "Access for free at openstax.org\n"
     ]
    }
   ],
   "source": [
    "for element in raw_pdf_elements:\n",
    "    print(element)"
   ]
  },
  {
   "cell_type": "code",
   "execution_count": 66,
   "metadata": {},
   "outputs": [
    {
     "data": {
      "text/plain": [
       "{\"<class 'unstructured.documents.elements.CompositeElement'>\": 2}"
      ]
     },
     "execution_count": 66,
     "metadata": {},
     "output_type": "execute_result"
    }
   ],
   "source": [
    "# Create a dictionary to store counts of each type\n",
    "category_counts = {}\n",
    "\n",
    "for element in raw_pdf_elements:\n",
    "    category = str(type(element))\n",
    "    if category in category_counts:\n",
    "        category_counts[category] += 1\n",
    "    else:\n",
    "        category_counts[category] = 1\n",
    "\n",
    "# Unique_categories will have unique elements\n",
    "unique_categories = set(category_counts.keys())\n",
    "category_counts"
   ]
  },
  {
   "cell_type": "code",
   "execution_count": 54,
   "metadata": {},
   "outputs": [
    {
     "data": {
      "text/plain": [
       "[\"2.1 * Solve Equations Using the Subtraction and Addition Properties of Equality 191\\n\\n[>] TRYIT 22 Is y = 2 a solution of Sy + 3 = 10y —4?\\n\\nSolve Equations Using the Subtraction and Addition Properties of Equality\\n\\nWe are going to use a model to clarify the process of solving an equation. An envelope represents the variable - since its contents are unknown - and each counter represents one. We will set out one envelope and some counters on our workspace, as shown in Figure 2.2. Both sides of the workspace have the same number of counters, but some counters are “hidden” in the envelope. Can you tell how many counters are in the envelope?\\n\\n0° oO @@ | @@ ©) ©)\\n\\nFigure 2.2 The illustration shows a model of an equation with one variable. On the left side of the workspace is an unknown (envelope) and three counters, while on the right side of the workspace are eight counters.\\n\\nWhat are you thinking? What steps are you taking in your mind to figure out how many counters are in the envelope?\\n\\nPerhaps you are thinking: “I need to remove the 3 counters at the bottom left to get the envelope by itself. The 3 counters on the left can be matched with 3 on the right and so I can take them away from both sides. That leaves five on the right—so there must be 5 counters in the envelope.” See Figure 2.3 for an illustration of this process.\\n\\n0.0 0.0 | oo | —. oo CH|CH\\n\\nFigure 2.3 The illustration shows a model for solving an equation with one variable. On both sides of the workspace remove three counters, leaving only the unknown (envelope) and five counters on the right side. The unknown is equal to five counters.\\n\\nWhat algebraic equation would match this situation? In Figure 2.4 each side of the workspace represents an expression and the center line takes the place of the equal sign. We will call the contents of the envelope x.\\n\\nOe) oo Oe x4+3 - 8\\n\\nFigure 2.4 The illustration shows a model for the equation x + 3 = 8.\\n\\nLet's write algebraically the steps we took to discover how many counters were in the envelope:\\n\\nx+3=8\\n\\nFirst, we took away three from each side. X+3-3=8-3\\n\\nThen we were left with five.\\n\\nx=5\\n\\nCheck:\\n\\nFive in the envelope plus three more does equal eight! 5+3=8\\n\\nOur model has given us an idea of what we need to do to solve one kind of equation. The goal is to isolate the variable by itself on one side of the equation. To solve equations such as these mathematically, we use the Subtraction Property of Equality.\\n\\n192 2+ Solving Linear Equations and Inequalities\\n\\nSubtraction Property of Equality\\n\\nFor any numbers a, b, and c,\\n\\nIf a= b, then a-c = b-c\\n\\nWhen you subtract the same quantity from both sides of an equation, you still have equality.\\n\\nQ\\n\\nMANIPULATIVE MATHEMATICS\\n\\nDoing the Manipulative Mathematics activity “Subtraction Property of Equality” will help you develop a better understanding of how to solve equations by using the Subtraction Property of Equality.\\n\\nLet's see how to use this property to solve an equation. Remember, the goal is to isolate the variable on one side of the equation. And we check our solutions by substituting the value into the equation to make sure we have a true statement.\\n\\nSolve: y + 37 = -13.\\n\\n© Solution\\n\\nTo get y by itself, we will undo the addition of 37 by using the Subtraction Property of Equality.\\n\\ny+37=-13\\n\\nSubtract 37 from each side to ‘undo’ the addition. Y¥+37-37 =-13-37\\n\\nSimplify. y=-50 Check: ¥+37=-13 Substitute y = —50 -50 + 37=-13 -132-13v\\n\\nSince y = —50 makes y + 37 = —13 a true statement, we have the solution to this equation.\\n\\n[>] TRYIT\\n\\n23 Solve:x+19=-27.\\n\\n[>| TRYIT\\n\\n24\\n\\n— Solve:x +16 = -34.\\n\\nWhat happens when an equation has a number subtracted from the variable, as in the equation x — 5 = 8? We use another property of equations to solve equations where a number is subtracted from the variable. We want to isolate the variable, so to ‘undo’ the subtraction we will add the number to both sides. We use the Addition Property of Equality.\\n\\nAddition Property of Equality\\n\\nFor any numbers a, b, and c,\\n\\nAccess for free at openstax.org\"]"
      ]
     },
     "execution_count": 54,
     "metadata": {},
     "output_type": "execute_result"
    }
   ],
   "source": [
    "from langchain_text_splitters import CharacterTextSplitter\n",
    "\n",
    "# Categorize elements by type\n",
    "def categorize_elements(raw_pdf_elements):\n",
    "    \"\"\"\n",
    "    Categorize extracted elements from a PDF into tables and texts.\n",
    "    raw_pdf_elements: List of unstructured.documents.elements\n",
    "    \"\"\"\n",
    "    tables = []\n",
    "    texts = []\n",
    "    for element in raw_pdf_elements:\n",
    "        if \"unstructured.documents.elements.Table\" in str(type(element)):\n",
    "            tables.append(str(element))\n",
    "        elif \"unstructured.documents.elements.CompositeElement\" in str(type(element)):\n",
    "            texts.append(str(element))\n",
    "    return texts, tables\n",
    "\n",
    "# Get text, tables\n",
    "texts, tables = categorize_elements(raw_pdf_elements)\n",
    "\n",
    "# Optional: Enforce a specific token size for texts\n",
    "text_splitter = CharacterTextSplitter.from_tiktoken_encoder(\n",
    "    chunk_size=4000, chunk_overlap=0\n",
    ")\n",
    "joined_texts = \" \".join(texts)\n",
    "texts_4k_token = text_splitter.split_text(joined_texts)\n",
    "texts_4k_token"
   ]
  },
  {
   "cell_type": "markdown",
   "metadata": {},
   "source": [
    "## Multi-vector retriever\n",
    "- Use multi-vector-retriever.\n",
    "- Summaries are used to retrieve raw tables and / or raw chunks of text."
   ]
  },
  {
   "cell_type": "markdown",
   "metadata": {},
   "source": [
    "### Test API connections and tracing to Langsmith project titled \"Demo\""
   ]
  },
  {
   "cell_type": "code",
   "execution_count": 58,
   "metadata": {},
   "outputs": [],
   "source": [
    "from dotenv import load_dotenv \n",
    "import os \n",
    "load_dotenv() \n",
    "\n",
    "GOOGLE_API_KEY = os.getenv(\"GOOGLE_API_KEY\")\n",
    "OPENAI_API_KEY = os.getenv(\"OPENAI_API_KEY\")"
   ]
  },
  {
   "cell_type": "code",
   "execution_count": 59,
   "metadata": {},
   "outputs": [
    {
     "data": {
      "text/plain": [
       "AIMessage(content='Hello! How can I assist you today?', additional_kwargs={'refusal': None}, response_metadata={'token_usage': {'completion_tokens': 10, 'prompt_tokens': 11, 'total_tokens': 21, 'completion_tokens_details': {'accepted_prediction_tokens': 0, 'audio_tokens': 0, 'reasoning_tokens': 0, 'rejected_prediction_tokens': 0}, 'prompt_tokens_details': {'audio_tokens': 0, 'cached_tokens': 0}}, 'model_name': 'gpt-3.5-turbo-0125', 'system_fingerprint': None, 'finish_reason': 'stop', 'logprobs': None}, id='run-02ffdd66-96bb-479e-b658-9691cd0e6655-0', usage_metadata={'input_tokens': 11, 'output_tokens': 10, 'total_tokens': 21, 'input_token_details': {'audio': 0, 'cache_read': 0}, 'output_token_details': {'audio': 0, 'reasoning': 0}})"
      ]
     },
     "execution_count": 59,
     "metadata": {},
     "output_type": "execute_result"
    }
   ],
   "source": [
    "from langchain_openai import ChatOpenAI\n",
    "\n",
    "llm = ChatOpenAI()\n",
    "llm.invoke(\"Hello, world!\")"
   ]
  },
  {
   "cell_type": "markdown",
   "metadata": {},
   "source": [
    "### Text and Table summaries"
   ]
  },
  {
   "cell_type": "code",
   "execution_count": 60,
   "metadata": {},
   "outputs": [],
   "source": [
    "from langchain_core.output_parsers import StrOutputParser\n",
    "from langchain_core.prompts import ChatPromptTemplate\n",
    "from langchain_openai import ChatOpenAI\n",
    "\n",
    "\n",
    "# Generate summaries of text elements\n",
    "def generate_text_summaries(texts, tables, summarize_texts=False):\n",
    "    \"\"\"\n",
    "    Summarize text elements\n",
    "    texts: List of str\n",
    "    tables: List of str\n",
    "    summarize_texts: Bool to summarize texts\n",
    "    \"\"\"\n",
    "\n",
    "    # Prompt\n",
    "    prompt_text = \"\"\"You are an assistant tasked with summarizing tables and text for retrieval. \\\n",
    "    These summaries will be embedded and used to retrieve the raw text or table elements. \\\n",
    "    Give a concise summary of the table or text that is well optimized for retrieval. Table or text: {element} \"\"\"\n",
    "    prompt = ChatPromptTemplate.from_template(prompt_text)\n",
    "\n",
    "    # Text summary chain\n",
    "    model = ChatOpenAI(temperature=0, model=\"gpt-4\")\n",
    "    summarize_chain = {\"element\": lambda x: x} | prompt | model | StrOutputParser()\n",
    "\n",
    "    # Initialize empty summaries\n",
    "    text_summaries = []\n",
    "    table_summaries = []\n",
    "\n",
    "    # Apply to text if texts are provided and summarization is requested\n",
    "    if texts and summarize_texts:\n",
    "        text_summaries = summarize_chain.batch(texts, {\"max_concurrency\": 5})\n",
    "    elif texts:\n",
    "        text_summaries = texts\n",
    "\n",
    "    # Apply to tables if tables are provided\n",
    "    if tables:\n",
    "        table_summaries = summarize_chain.batch(tables, {\"max_concurrency\": 5})\n",
    "\n",
    "    return text_summaries, table_summaries\n",
    "\n",
    "\n",
    "# Get text, table summaries\n",
    "text_summaries, table_summaries = generate_text_summaries(\n",
    "    texts_4k_token, tables, summarize_texts=True\n",
    ")"
   ]
  },
  {
   "cell_type": "code",
   "execution_count": 61,
   "metadata": {},
   "outputs": [
    {
     "data": {
      "text/plain": [
       "[\"The text explains the process of solving equations using the Subtraction and Addition Properties of Equality. It uses a model of an envelope representing a variable and counters representing numbers to illustrate the process. The goal is to isolate the variable on one side of the equation. The Subtraction Property of Equality states that if you subtract the same quantity from both sides of an equation, you still have equality. The Addition Property of Equality is used to solve equations where a number is subtracted from the variable. To 'undo' the subtraction, the number is added to both sides. The text includes examples and exercises to practice these concepts.\"]"
      ]
     },
     "execution_count": 61,
     "metadata": {},
     "output_type": "execute_result"
    }
   ],
   "source": [
    "text_summaries"
   ]
  },
  {
   "cell_type": "code",
   "execution_count": 62,
   "metadata": {},
   "outputs": [
    {
     "data": {
      "text/plain": [
       "[]"
      ]
     },
     "execution_count": 62,
     "metadata": {},
     "output_type": "execute_result"
    }
   ],
   "source": [
    "table_summaries"
   ]
  },
  {
   "cell_type": "markdown",
   "metadata": {},
   "source": [
    "### Image summarization"
   ]
  },
  {
   "cell_type": "code",
   "execution_count": 70,
   "metadata": {},
   "outputs": [],
   "source": [
    "import base64\n",
    "import os\n",
    "\n",
    "from langchain_core.messages import HumanMessage\n",
    "\n",
    "\n",
    "def encode_image(image_path):\n",
    "    \"\"\"Getting the base64 string\"\"\"\n",
    "    with open(image_path, \"rb\") as image_file:\n",
    "        return base64.b64encode(image_file.read()).decode(\"utf-8\")\n",
    "\n",
    "\n",
    "def image_summarize(img_base64, prompt):\n",
    "    \"\"\"Make image summary\"\"\"\n",
    "    chat = ChatOpenAI(model=\"gpt-4o\", max_tokens=1024)\n",
    "\n",
    "    msg = chat.invoke(\n",
    "        [\n",
    "            HumanMessage(\n",
    "                content=[\n",
    "                    {\"type\": \"text\", \"text\": prompt},\n",
    "                    {\n",
    "                        \"type\": \"image_url\",\n",
    "                        \"image_url\": {\"url\": f\"data:image/jpeg;base64,{img_base64}\"},\n",
    "                    },\n",
    "                ]\n",
    "            )\n",
    "        ]\n",
    "    )\n",
    "    return msg.content\n",
    "\n",
    "\n",
    "def generate_img_summaries(path):\n",
    "    \"\"\"\n",
    "    Generate summaries and base64 encoded strings for images\n",
    "    path: Path to list of .jpg files extracted by Unstructured\n",
    "    \"\"\"\n",
    "\n",
    "    # Store base64 encoded images\n",
    "    img_base64_list = []\n",
    "\n",
    "    # Store image summaries\n",
    "    image_summaries = []\n",
    "\n",
    "    # Prompt\n",
    "    prompt = \"\"\"You are an assistant tasked with summarizing images for retrieval. \\\n",
    "    These summaries will be embedded and used to retrieve the raw image. \\\n",
    "    Give a concise summary of the image that is well optimized for retrieval.\"\"\"\n",
    "\n",
    "    # Apply to images\n",
    "    for img_file in sorted(os.listdir(path)):\n",
    "        if img_file.endswith(\".jpg\"):\n",
    "            img_path = os.path.join(path, img_file)\n",
    "            base64_image = encode_image(img_path)\n",
    "            img_base64_list.append(base64_image)\n",
    "            image_summaries.append(image_summarize(base64_image, prompt))\n",
    "\n",
    "    return img_base64_list, image_summaries\n",
    "\n",
    "\n",
    "# Image summaries\n",
    "fpath = \"textbook_output\"\n",
    "img_base64_list, image_summaries = generate_img_summaries(fpath)"
   ]
  },
  {
   "cell_type": "code",
   "execution_count": 71,
   "metadata": {},
   "outputs": [
    {
     "data": {
      "text/plain": [
       "(['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',\n",
       "  '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',\n",
       "  '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'],\n",
       " ['Envelope above circles on left; nine circles on right.',\n",
       "  'Diagram with envelope and green circles showing sorting process. Initial image shows envelope with six circles, three circled in pink. Arrow points to second image with envelope and three circles on the right.',\n",
       "  'Envelope with three coins equation, equals eight coins on right.'])"
      ]
     },
     "execution_count": 71,
     "metadata": {},
     "output_type": "execute_result"
    }
   ],
   "source": [
    "img_base64_list, image_summaries"
   ]
  },
  {
   "cell_type": "markdown",
   "metadata": {},
   "source": [
    "### Add to local Chroma vector store"
   ]
  },
  {
   "cell_type": "code",
   "execution_count": 72,
   "metadata": {},
   "outputs": [],
   "source": [
    "import uuid\n",
    "\n",
    "from langchain.retrievers.multi_vector import MultiVectorRetriever\n",
    "from langchain.storage import InMemoryStore\n",
    "from langchain_chroma import Chroma\n",
    "from langchain_core.documents import Document\n",
    "from langchain_openai import OpenAIEmbeddings\n",
    "\n",
    "\n",
    "def create_multi_vector_retriever(\n",
    "    vectorstore, text_summaries, texts, table_summaries, tables, image_summaries, images\n",
    "):\n",
    "    \"\"\"\n",
    "    Create retriever that indexes summaries, but returns raw images or texts\n",
    "    \"\"\"\n",
    "\n",
    "    # Initialize the storage layer\n",
    "    store = InMemoryStore()\n",
    "    id_key = \"doc_id\"\n",
    "\n",
    "    # Create the multi-vector retriever\n",
    "    retriever = MultiVectorRetriever(\n",
    "        vectorstore=vectorstore,\n",
    "        docstore=store,\n",
    "        id_key=id_key,\n",
    "    )\n",
    "\n",
    "    # Helper function to add documents to the vectorstore and docstore\n",
    "    def add_documents(retriever, doc_summaries, doc_contents):\n",
    "        doc_ids = [str(uuid.uuid4()) for _ in doc_contents]\n",
    "        summary_docs = [\n",
    "            Document(page_content=s, metadata={id_key: doc_ids[i]})\n",
    "            for i, s in enumerate(doc_summaries)\n",
    "        ]\n",
    "        retriever.vectorstore.add_documents(summary_docs)\n",
    "        retriever.docstore.mset(list(zip(doc_ids, doc_contents)))\n",
    "\n",
    "    # Add texts, tables, and images\n",
    "    # Check that text_summaries is not empty before adding\n",
    "    if text_summaries:\n",
    "        add_documents(retriever, text_summaries, texts)\n",
    "    # Check that table_summaries is not empty before adding\n",
    "    if table_summaries:\n",
    "        add_documents(retriever, table_summaries, tables)\n",
    "    # Check that image_summaries is not empty before adding\n",
    "    if image_summaries:\n",
    "        add_documents(retriever, image_summaries, images)\n",
    "\n",
    "    return retriever\n",
    "\n",
    "\n",
    "# The vectorstore to use to index the summaries\n",
    "vectorstore = Chroma(\n",
    "    collection_name=\"zeno_demo\", embedding_function=OpenAIEmbeddings()\n",
    ")\n",
    "\n",
    "# Create retriever\n",
    "retriever_multi_vector_img = create_multi_vector_retriever(\n",
    "    vectorstore,\n",
    "    text_summaries,\n",
    "    texts,\n",
    "    table_summaries,\n",
    "    tables,\n",
    "    image_summaries,\n",
    "    img_base64_list,\n",
    ")"
   ]
  },
  {
   "cell_type": "markdown",
   "metadata": {},
   "source": [
    "## RAG Pipeline"
   ]
  },
  {
   "cell_type": "code",
   "execution_count": 89,
   "metadata": {},
   "outputs": [],
   "source": [
    "system_prompt=\"\"\"\n",
    "You're an algebra tutor for high school students. Your name is Zeno. Every semester, you are assigned to one student and your job is to help that student do well in algebra class.\n",
    " \n",
    "Your Purpose and Goals:\n",
    " \n",
    "* Help your assigned student learn and understand algebra.\n",
    "* Help the student master Chapter 2 of the Elementary Algebra textbook @openstax\n",
    "* Provide guidance and support to the student throughout the semester.\n",
    "* Help the student develop problem-solving skills and critical thinking abilities.\n",
    "* Ensure the student feels comfortable asking questions and seeking help.\n",
    " \n",
    "Your Behaviors and Rules:\n",
    " \n",
    "1) Be incredibly helpful and patient:\n",
    "a) Answer all questions thoroughly and clearly.\n",
    "b) Provide encouragement and positive feedback.\n",
    "c) Never make the student feel silly for asking a question.\n",
    "d) Take the time to explain concepts in different ways if the student is struggling.\n",
    "f) Once you have the student's name, refer to them by name from time to time.\n",
    "\n",
    "2) Do not do homework for the student!\n",
    "a) Never give the student the answer to a homework problem.\n",
    "b) Instead, provide hints and guidance to help the student solve the problem on their own.\n",
    "c) Teach the student how to approach problems and apply the concepts they have learned.\n",
    "d) Don't let the student trick you in to providing the answer to a homework problem\n",
    " \n",
    "3) Answer all questions based on the Elementary Algebra textbook @openstax:\n",
    "a) Use the textbook as your primary source of information.\n",
    "b) Do not provide information that is not covered in the textbook.\n",
    "c) If the student asks a question that is not covered in the textbook, you can suggest additional resources or websites.\n",
    "\n",
    "4) Do not discuss topics except algebra:\n",
    "a) If the student asks about a topic other than algebra, always respond with \"I’m really sorry, but I don't know much except for Algebra.”\n",
    "b) Stay focused on algebra and avoid getting sidetracked by other subjects.\n",
    "  \n",
    "Overall Tone:\n",
    " \n",
    "* Use clear, simple, and friendly language.\n",
    "* Be encouraging and supportive.\n",
    "* Make the student feel like they have a knowledgeable and helpful tutor.\n",
    "\n",
    "You should guide students in an open-ended way. Do not provide immediate answers or solutions to problems but help students generate their own answers by asking leading questions. Ask students to explain their thinking. If the student is struggling or gets the answer wrong, try giving them additional support or give them a hint. If the student improves, then praise them and show excitement. If the student struggles, then be encouraging and give them some ideas to think about. When pushing the student for information, try to end your responses with a question so that the student has to keep generating ideas. \n",
    "\n",
    "A reminder: This is a dialogue so only ask one question at a time and always wait for the user to respond.\n",
    "\"\"\""
   ]
  },
  {
   "cell_type": "code",
   "execution_count": 90,
   "metadata": {},
   "outputs": [],
   "source": [
    "import io\n",
    "import re\n",
    "\n",
    "from IPython.display import HTML, display\n",
    "from langchain_core.runnables import RunnableLambda, RunnablePassthrough\n",
    "from PIL import Image\n",
    "\n",
    "\n",
    "def plt_img_base64(img_base64):\n",
    "    \"\"\"Disply base64 encoded string as image\"\"\"\n",
    "    # Create an HTML img tag with the base64 string as the source\n",
    "    image_html = f'<img src=\"data:image/jpeg;base64,{img_base64}\" />'\n",
    "    # Display the image by rendering the HTML\n",
    "    display(HTML(image_html))\n",
    "\n",
    "\n",
    "def looks_like_base64(sb):\n",
    "    \"\"\"Check if the string looks like base64\"\"\"\n",
    "    return re.match(\"^[A-Za-z0-9+/]+[=]{0,2}$\", sb) is not None\n",
    "\n",
    "\n",
    "def is_image_data(b64data):\n",
    "    \"\"\"\n",
    "    Check if the base64 data is an image by looking at the start of the data\n",
    "    \"\"\"\n",
    "    image_signatures = {\n",
    "        b\"\\xff\\xd8\\xff\": \"jpg\",\n",
    "        b\"\\x89\\x50\\x4e\\x47\\x0d\\x0a\\x1a\\x0a\": \"png\",\n",
    "        b\"\\x47\\x49\\x46\\x38\": \"gif\",\n",
    "        b\"\\x52\\x49\\x46\\x46\": \"webp\",\n",
    "    }\n",
    "    try:\n",
    "        header = base64.b64decode(b64data)[:8]  # Decode and get the first 8 bytes\n",
    "        for sig, format in image_signatures.items():\n",
    "            if header.startswith(sig):\n",
    "                return True\n",
    "        return False\n",
    "    except Exception:\n",
    "        return False\n",
    "\n",
    "\n",
    "def resize_base64_image(base64_string, size=(128, 128)):\n",
    "    \"\"\"\n",
    "    Resize an image encoded as a Base64 string\n",
    "    \"\"\"\n",
    "    # Decode the Base64 string\n",
    "    img_data = base64.b64decode(base64_string)\n",
    "    img = Image.open(io.BytesIO(img_data))\n",
    "\n",
    "    # Resize the image\n",
    "    resized_img = img.resize(size, Image.LANCZOS)\n",
    "\n",
    "    # Save the resized image to a bytes buffer\n",
    "    buffered = io.BytesIO()\n",
    "    resized_img.save(buffered, format=img.format)\n",
    "\n",
    "    # Encode the resized image to Base64\n",
    "    return base64.b64encode(buffered.getvalue()).decode(\"utf-8\")\n",
    "\n",
    "\n",
    "def split_image_text_types(docs):\n",
    "    \"\"\"\n",
    "    Split base64-encoded images and texts\n",
    "    \"\"\"\n",
    "    b64_images = []\n",
    "    texts = []\n",
    "    for doc in docs:\n",
    "        # Check if the document is of type Document and extract page_content if so\n",
    "        if isinstance(doc, Document):\n",
    "            doc = doc.page_content\n",
    "        if looks_like_base64(doc) and is_image_data(doc):\n",
    "            doc = resize_base64_image(doc, size=(1300, 600))\n",
    "            b64_images.append(doc)\n",
    "        else:\n",
    "            texts.append(doc)\n",
    "    return {\"images\": b64_images, \"texts\": texts}\n",
    "\n",
    "\n",
    "def img_prompt_func(data_dict):\n",
    "    \"\"\"\n",
    "    Join the context into a single string\n",
    "    \"\"\"\n",
    "    formatted_texts = \"\\n\".join(data_dict[\"context\"][\"texts\"])\n",
    "    messages = []\n",
    "\n",
    "    # Adding image(s) to the messages if present\n",
    "    if data_dict[\"context\"][\"images\"]:\n",
    "        for image in data_dict[\"context\"][\"images\"]:\n",
    "            image_message = {\n",
    "                \"type\": \"image_url\",\n",
    "                \"image_url\": {\"url\": f\"data:image/jpeg;base64,{image}\"},\n",
    "            }\n",
    "            messages.append(image_message)\n",
    "\n",
    "    # Adding the text for analysis\n",
    "    text_message = {\n",
    "        \"type\": \"text\",\n",
    "        \"text\": (\n",
    "            f\"{system_prompt}\\n\"\n",
    "            \"You will be given a mixed of text, tables, and image(s) usually of charts or graphs from the textbook.\\n\"\n",
    "            f\"User-provided question: {data_dict['question']}\\n\\n\"\n",
    "            \"Text and / or tables:\\n\"\n",
    "            f\"{formatted_texts}\"\n",
    "        ),\n",
    "    }\n",
    "    messages.append(text_message)\n",
    "    return [HumanMessage(content=messages)]\n",
    "\n",
    "\n",
    "def multi_modal_rag_chain(retriever):\n",
    "    \"\"\"\n",
    "    Multi-modal RAG chain\n",
    "    \"\"\"\n",
    "\n",
    "    # Multi-modal LLM\n",
    "    model = ChatOpenAI(temperature=0, model=\"gpt-4o\", max_tokens=1024)\n",
    "\n",
    "    # RAG pipeline\n",
    "    chain = (\n",
    "        {\n",
    "            \"context\": retriever | RunnableLambda(split_image_text_types),\n",
    "            \"question\": RunnablePassthrough(),\n",
    "        }\n",
    "        | RunnableLambda(img_prompt_func)\n",
    "        | model\n",
    "        | StrOutputParser()\n",
    "    )\n",
    "\n",
    "    return chain\n",
    "\n",
    "\n",
    "# Create RAG chain\n",
    "chain_multimodal_rag = multi_modal_rag_chain(retriever_multi_vector_img)"
   ]
  },
  {
   "cell_type": "markdown",
   "metadata": {},
   "source": [
    "## Check"
   ]
  },
  {
   "cell_type": "code",
   "execution_count": 91,
   "metadata": {},
   "outputs": [
    {
     "name": "stdout",
     "output_type": "stream",
     "text": [
      "2.1 * Solve Equations Using the Subtraction and Addition Properties of Equality 191\n",
      "\n",
      "[>] TRYIT 22 Is y = 2 a solution of Sy + 3 = 10y —4?\n",
      "\n",
      "Solve Equations Using the Subtraction and Addition Properties of Equality\n",
      "\n",
      "We are going to use a model to clarify the process of solving an equation. An envelope represents the variable - since its contents are unknown - and each counter represents one. We will set out one envelope and some counters on our workspace, as shown in Figure 2.2. Both sides of the workspace have the same number of counters, but some counters are “hidden” in the envelope. Can you tell how many counters are in the envelope?\n",
      "\n",
      "0° oO @@ | @@ ©) ©)\n",
      "\n",
      "Figure 2.2 The illustration shows a model of an equation with one variable. On the left side of the workspace is an unknown (envelope) and three counters, while on the right side of the workspace are eight counters.\n",
      "\n",
      "What are you thinking? What steps are you taking in your mind to figure out how many counters are in the envelope?\n",
      "\n",
      "Perhaps you are thinking: “I need to remove the 3 counters at the bottom left to get the envelope by itself. The 3 counters on the left can be matched with 3 on the right and so I can take them away from both sides. That leaves five on the right—so there must be 5 counters in the envelope.” See Figure 2.3 for an illustration of this process.\n",
      "\n",
      "0.0 0.0 | oo | —. oo CH|CH\n",
      "\n",
      "Figure 2.3 The illustration shows a model for solving an equation with one variable. On both sides of the workspace remove three counters, leaving only the unknown (envelope) and five counters on the right side. The unknown is equal to five counters.\n",
      "\n",
      "What algebraic equation would match this situation? In Figure 2.4 each side of the workspace represents an expression and the center line takes the place of the equal sign. We will call the contents of the envelope x.\n",
      "\n",
      "Oe) oo Oe x4+3 - 8\n",
      "\n",
      "Figure 2.4 The illustration shows a model for the equation x + 3 = 8.\n",
      "\n",
      "Let's write algebraically the steps we took to discover how many counters were in the envelope:\n",
      "\n",
      "x+3=8\n",
      "\n",
      "First, we took away three from each side. X+3-3=8-3\n",
      "\n",
      "Then we were left with five.\n",
      "\n",
      "x=5\n",
      "\n",
      "Check:\n",
      "\n",
      "Five in the envelope plus three more does equal eight!\n"
     ]
    }
   ],
   "source": [
    "# Check retrieval\n",
    "query = \"Explain to me how to solve equations using the subtraction and addition properties of equality\"\n",
    "docs = retriever_multi_vector_img.invoke(query, limit=6)\n",
    "\n",
    "len(docs)\n",
    "print(docs[0])"
   ]
  },
  {
   "cell_type": "code",
   "execution_count": 92,
   "metadata": {},
   "outputs": [
    {
     "data": {
      "text/html": [
       "<img src=\"data:image/jpeg;base64,2.1 * Solve Equations Using the Subtraction and Addition Properties of Equality 191\n",
       "\n",
       "[>] TRYIT 22 Is y = 2 a solution of Sy + 3 = 10y —4?\n",
       "\n",
       "Solve Equations Using the Subtraction and Addition Properties of Equality\n",
       "\n",
       "We are going to use a model to clarify the process of solving an equation. An envelope represents the variable - since its contents are unknown - and each counter represents one. We will set out one envelope and some counters on our workspace, as shown in Figure 2.2. Both sides of the workspace have the same number of counters, but some counters are “hidden” in the envelope. Can you tell how many counters are in the envelope?\n",
       "\n",
       "0° oO @@ | @@ ©) ©)\n",
       "\n",
       "Figure 2.2 The illustration shows a model of an equation with one variable. On the left side of the workspace is an unknown (envelope) and three counters, while on the right side of the workspace are eight counters.\n",
       "\n",
       "What are you thinking? What steps are you taking in your mind to figure out how many counters are in the envelope?\n",
       "\n",
       "Perhaps you are thinking: “I need to remove the 3 counters at the bottom left to get the envelope by itself. The 3 counters on the left can be matched with 3 on the right and so I can take them away from both sides. That leaves five on the right—so there must be 5 counters in the envelope.” See Figure 2.3 for an illustration of this process.\n",
       "\n",
       "0.0 0.0 | oo | —. oo CH|CH\n",
       "\n",
       "Figure 2.3 The illustration shows a model for solving an equation with one variable. On both sides of the workspace remove three counters, leaving only the unknown (envelope) and five counters on the right side. The unknown is equal to five counters.\n",
       "\n",
       "What algebraic equation would match this situation? In Figure 2.4 each side of the workspace represents an expression and the center line takes the place of the equal sign. We will call the contents of the envelope x.\n",
       "\n",
       "Oe) oo Oe x4+3 - 8\n",
       "\n",
       "Figure 2.4 The illustration shows a model for the equation x + 3 = 8.\n",
       "\n",
       "Let's write algebraically the steps we took to discover how many counters were in the envelope:\n",
       "\n",
       "x+3=8\n",
       "\n",
       "First, we took away three from each side. X+3-3=8-3\n",
       "\n",
       "Then we were left with five.\n",
       "\n",
       "x=5\n",
       "\n",
       "Check:\n",
       "\n",
       "Five in the envelope plus three more does equal eight!\" />"
      ],
      "text/plain": [
       "<IPython.core.display.HTML object>"
      ]
     },
     "metadata": {},
     "output_type": "display_data"
    },
    {
     "data": {
      "text/html": [
       "<img src=\"data:image/jpeg;base64,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\" />"
      ],
      "text/plain": [
       "<IPython.core.display.HTML object>"
      ]
     },
     "metadata": {},
     "output_type": "display_data"
    },
    {
     "data": {
      "text/html": [
       "<img src=\"data:image/jpeg;base64,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\" />"
      ],
      "text/plain": [
       "<IPython.core.display.HTML object>"
      ]
     },
     "metadata": {},
     "output_type": "display_data"
    },
    {
     "data": {
      "text/html": [
       "<img src=\"data:image/jpeg;base64,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\" />"
      ],
      "text/plain": [
       "<IPython.core.display.HTML object>"
      ]
     },
     "metadata": {},
     "output_type": "display_data"
    }
   ],
   "source": [
    "# Bring back images\n",
    "plt_img_base64(docs[0])\n",
    "plt_img_base64(docs[1])\n",
    "plt_img_base64(docs[2])\n",
    "plt_img_base64(docs[3])"
   ]
  },
  {
   "cell_type": "markdown",
   "metadata": {},
   "source": [
    "## Running RAG pipeline"
   ]
  },
  {
   "cell_type": "code",
   "execution_count": 93,
   "metadata": {},
   "outputs": [
    {
     "data": {
      "text/plain": [
       "\"Great question! Let's walk through how to solve equations using the subtraction and addition properties of equality, using the example from the images.\\n\\n### Understanding the Model\\n\\n1. **Visual Representation**: \\n   - The envelope represents the unknown variable, \\\\( x \\\\).\\n   - Each counter represents the number 1.\\n\\n2. **Equation Setup**:\\n   - On the left side, you have the envelope and 3 counters, which represents \\\\( x + 3 \\\\).\\n   - On the right side, you have 8 counters, representing the number 8.\\n\\n### Solving the Equation\\n\\n1. **Equation**: \\n   - You start with \\\\( x + 3 = 8 \\\\).\\n\\n2. **Using the Subtraction Property of Equality**:\\n   - To isolate \\\\( x \\\\), you need to remove the 3 counters from the left side.\\n   - Whatever you do to one side, you must do to the other to maintain balance.\\n   - Subtract 3 from both sides: \\n     \\\\[\\n     x + 3 - 3 = 8 - 3\\n     \\\\]\\n\\n3. **Simplify**:\\n   - This leaves you with:\\n     \\\\[\\n     x = 5\\n     \\\\]\\n\\n### Verification\\n\\n- **Check**: Substitute \\\\( x = 5 \\\\) back into the original equation:\\n  \\\\[\\n  5 + 3 = 8\\n  \\\\]\\n- Since both sides are equal, \\\\( x = 5 \\\\) is the correct solution.\\n\\n### Key Concept\\n\\n- **Subtraction Property of Equality**: You can subtract the same number from both sides of an equation without changing the equality.\\n\\nDoes this make sense? What part would you like to explore further?\""
      ]
     },
     "execution_count": 93,
     "metadata": {},
     "output_type": "execute_result"
    }
   ],
   "source": [
    "# Run RAG chain\n",
    "query = \"Explain to me how to solve equations using the subtraction and addition properties of equality\"\n",
    "chain_multimodal_rag.invoke(query)"
   ]
  }
 ],
 "metadata": {
  "kernelspec": {
   "display_name": "vtutor",
   "language": "python",
   "name": "python3"
  },
  "language_info": {
   "codemirror_mode": {
    "name": "ipython",
    "version": 3
   },
   "file_extension": ".py",
   "mimetype": "text/x-python",
   "name": "python",
   "nbconvert_exporter": "python",
   "pygments_lexer": "ipython3",
   "version": "3.10.11"
  }
 },
 "nbformat": 4,
 "nbformat_minor": 2
}
